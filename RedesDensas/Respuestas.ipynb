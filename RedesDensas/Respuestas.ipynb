{
 "cells": [
  {
   "cell_type": "markdown",
   "source": [
    "[![Open In Colab](https://colab.research.google.com/assets/colab-badge.svg)](https://colab.research.google.com/github/arturoTellez/tareas_AP/blob/master/RedesDensas/Respuestas.ipynb)"
   ],
   "metadata": {}
  },
  {
   "cell_type": "markdown",
   "source": [
    "# Curso de aprendizaje profundo\r\n",
    "PCIC, UNAM  \r\n",
    "Tarea 1: Redes densas*"
   ],
   "metadata": {}
  },
  {
   "cell_type": "code",
   "execution_count": 1,
   "source": [
    "# !pip install plotly\r\n",
    "# !pip install torch torchvision torchaudio\r\n",
    "# !pip install tensorflow\r\n",
    "# !pip install scipy\r\n"
   ],
   "outputs": [],
   "metadata": {}
  },
  {
   "cell_type": "code",
   "execution_count": 2,
   "source": [
    "# Se importan los paquetes necesarios\r\n",
    "import numpy as np\r\n",
    "import seaborn as sns\r\n",
    "import pandas as pd\r\n",
    "import matplotlib.pyplot as plt\r\n",
    "from matplotlib import style\r\n",
    "import plotly.express as px\r\n",
    "from scipy import optimize\r\n",
    "style.use(\"ggplot\")\r\n",
    "%matplotlib inline\r\n",
    "\r\n",
    "\r\n",
    "import math\r\n",
    "# sistema de archivos\r\n",
    "import os\r\n",
    "# números aleatorios\r\n",
    "import random\r\n",
    "\r\n",
    "# gráficas\r\n",
    "import matplotlib.pyplot as plt\r\n",
    "# arreglos multidimensionales\r\n",
    "import numpy as np\r\n",
    "# csv\r\n",
    "import pandas as pd\r\n",
    "\r\n",
    "# redes neuronales\r\n",
    "import torch\r\n",
    "import torch.nn as nn\r\n",
    "import torch.nn.functional as F\r\n",
    "import torch.optim as optim\r\n",
    "\r\n",
    "from torch.utils.data import DataLoader, TensorDataset"
   ],
   "outputs": [],
   "metadata": {}
  },
  {
   "cell_type": "markdown",
   "source": [
    "### 1. Red de unidades de umbral lineal\r\n",
    "Programa y evalúa una red de neuronas con funciones de activación escalón unitario que aproxime la operación XNOR (⊙) dada por  \r\n",
    "|x1|x2|y |\r\n",
    "|--|--|--|\r\n",
    "|0 |0 |1 |\r\n",
    "|0 |1 |0 |\r\n",
    "|1 |0 |0 |\r\n",
    "|1 |1 |1 |"
   ],
   "metadata": {}
  },
  {
   "cell_type": "code",
   "execution_count": 3,
   "source": [
    "def escalon(z):\r\n",
    "    return int(z>=0)"
   ],
   "outputs": [],
   "metadata": {}
  },
  {
   "cell_type": "code",
   "execution_count": 6,
   "source": [
    "X = np.array([[0., 0.], [0., 1.], [1., 0.], [1., 1.]])\r\n",
    "y = np.array([1., 0., 0., 1.])"
   ],
   "outputs": [],
   "metadata": {}
  },
  {
   "cell_type": "code",
   "execution_count": 27,
   "source": [
    "def multicapa(x, W1, b1, W2, b2):\r\n",
    "  escv = np.vectorize(escalon)\r\n",
    "  a = escv(np.dot(W1.T, x) + b1)\r\n",
    "  return escv(np.dot(W2.T, a) + b2)\r\n",
    "\r\n",
    "def buscar_pesos(var,  x, y):\r\n",
    "    \"\"\"\r\n",
    "    Función para encontrar los parámetros\r\n",
    "    \"\"\"\r\n",
    "    w11, w12, w13, w14, b11, b12, w21, w22, b2 = var\r\n",
    "    W1 = np.array([[w11, w12], [w13, w14]])\r\n",
    "    W2 = np.array([[w21], [w22]])\r\n",
    "    b1 = np.array([b11, b12])\r\n",
    "    b2 = np.array([b2])\r\n",
    "\r\n",
    "    return  sum([multicapa(x[i,:], W1, b1, W2, b2)[0] != y[i] for i in range(len(y))])\r\n",
    "\r\n",
    "buscar_pesos((20,30,10,40,50,80,20, 50,60 ), X, y,)\r\n",
    "\r\n",
    "    "
   ],
   "outputs": [
    {
     "output_type": "execute_result",
     "data": {
      "text/plain": [
       "2"
      ]
     },
     "metadata": {},
     "execution_count": 27
    }
   ],
   "metadata": {}
  },
  {
   "cell_type": "code",
   "execution_count": 28,
   "source": [
    "optimo = 4\r\n",
    "while optimo != 0:\r\n",
    "  res = optimize.minimize(\r\n",
    "      buscar_pesos,\r\n",
    "      method='Nelder-Mead',\r\n",
    "      # bounds = ((-100,100), (-100,100),(-100,100),(-100,100),(-100,100), (-100,100),(-100,100), (-100,100), (-100,100)),\r\n",
    "      tol = 0.00000001,\r\n",
    "      x0=[np.random.random(9) * 20 - 10] ,\r\n",
    "      args=(X, y),\r\n",
    "      options = {\"maxiter\":1000000000}\r\n",
    "  )\r\n",
    "  if res.success:\r\n",
    "    optimo = res.fun\r\n",
    "print(res)"
   ],
   "outputs": [
    {
     "output_type": "stream",
     "name": "stdout",
     "text": [
      " final_simplex: (array([[-4.83257939, -8.09365794, -6.41133603, -2.32920261,  7.69162651,\n",
      "         1.44917954, -8.89061259,  6.1928686 ,  6.99535829],\n",
      "       [-4.8325794 , -8.09365794, -6.41133603, -2.32920261,  7.69162651,\n",
      "         1.44917954, -8.89061259,  6.1928686 ,  6.99535829],\n",
      "       [-4.83257939, -8.09365795, -6.41133603, -2.32920261,  7.69162651,\n",
      "         1.44917954, -8.89061259,  6.1928686 ,  6.99535829],\n",
      "       [-4.83257939, -8.09365794, -6.41133604, -2.32920261,  7.69162651,\n",
      "         1.44917954, -8.89061259,  6.1928686 ,  6.99535829],\n",
      "       [-4.83257939, -8.09365794, -6.41133603, -2.32920262,  7.69162651,\n",
      "         1.44917954, -8.89061259,  6.1928686 ,  6.99535829],\n",
      "       [-4.83257939, -8.09365794, -6.41133603, -2.32920261,  7.69162652,\n",
      "         1.44917954, -8.89061259,  6.1928686 ,  6.99535829],\n",
      "       [-4.83257939, -8.09365794, -6.41133603, -2.32920261,  7.69162651,\n",
      "         1.44917954, -8.89061259,  6.1928686 ,  6.99535829],\n",
      "       [-4.83257939, -8.09365794, -6.41133603, -2.32920261,  7.69162651,\n",
      "         1.44917954, -8.8906126 ,  6.1928686 ,  6.99535829],\n",
      "       [-4.83257939, -8.09365794, -6.41133603, -2.32920261,  7.69162651,\n",
      "         1.44917954, -8.89061259,  6.19286861,  6.99535829],\n",
      "       [-4.83257939, -8.09365794, -6.41133603, -2.32920261,  7.69162651,\n",
      "         1.44917954, -8.89061259,  6.1928686 ,  6.99535829]]), array([0., 0., 0., 0., 0., 0., 0., 0., 0., 0.]))\n",
      "           fun: 0.0\n",
      "       message: 'Optimization terminated successfully.'\n",
      "          nfev: 296\n",
      "           nit: 27\n",
      "        status: 0\n",
      "       success: True\n",
      "             x: array([-4.83257939, -8.09365794, -6.41133603, -2.32920261,  7.69162651,\n",
      "        1.44917954, -8.89061259,  6.1928686 ,  6.99535829])\n"
     ]
    }
   ],
   "metadata": {}
  },
  {
   "cell_type": "code",
   "execution_count": 29,
   "source": [
    "buscar_pesos(res.x,X,y)\r\n"
   ],
   "outputs": [
    {
     "output_type": "execute_result",
     "data": {
      "text/plain": [
       "0"
      ]
     },
     "metadata": {},
     "execution_count": 29
    }
   ],
   "metadata": {}
  },
  {
   "cell_type": "code",
   "execution_count": 30,
   "source": [
    "w11, w12, w13, w14, b11, b12, w21, w22, b2 = res.x\r\n",
    "X = X\r\n",
    "y_xnor = y.copy()\r\n",
    "W1 = np.array([[w11, w12], [w13, w14]])\r\n",
    "W2 = np.array([[w21], [w22]])\r\n",
    "b1 = np.array([b11, b12])\r\n",
    "b2 = np.array([b2])\r\n",
    "\r\n",
    "\r\n",
    "\r\n",
    "print('W_1 = [{0}{1}], b_1 = {2}'.format(W1[0, :], W1[1, :], b1))\r\n",
    "print('W_2 = [{0}{1}], b_2 = {2}'.format(W2[0], W2[1], b2))\r\n",
    "print('-----------------------------')\r\n",
    "print('x_1 \\tx_2 \\ty\\ty_hat')\r\n",
    "print('-----------------------------')\r\n",
    "for i in range(X.shape[0]):\r\n",
    "  y_hat = multicapa(X[i], W1, b1, W2, b2)\r\n",
    "  print('{0}\\t{1}\\t{2}\\t{3}'.format(X[i, 0], X[i, 1], y_xnor[i], y_hat[0]))"
   ],
   "outputs": [
    {
     "output_type": "stream",
     "name": "stdout",
     "text": [
      "W_1 = [[-4.83257939 -8.09365794][-6.41133603 -2.32920261]], b_1 = [7.69162651 1.44917954]\n",
      "W_2 = [[-8.89061259][6.1928686]], b_2 = [6.99535829]\n",
      "-----------------------------\n",
      "x_1 \tx_2 \ty\ty_hat\n",
      "-----------------------------\n",
      "0.0\t0.0\t1.0\t1\n",
      "0.0\t1.0\t0.0\t0\n",
      "1.0\t0.0\t0.0\t0\n",
      "1.0\t1.0\t1.0\t1\n"
     ]
    }
   ],
   "metadata": {}
  },
  {
   "cell_type": "markdown",
   "source": [
    "### 3. Regresión lineal con PyTorch\r\n",
    "Entrena y evalúa un modelo de regresión lineal para el conjunto de datos de calificaciones que considere los dos atributos de entrada.  \r\n",
    "Especificaciones:  \r\n",
    "• Grafica los datos en 3D.  \r\n",
    "• Realiza la definición de la arquitectura usando tanto la interfaz de alto como la de medio nivel.  \r\n",
    "• Prueba distintos valores para los hiperparámetros.  \r\n",
    "• Realiza una predicción con tu modelo entrenado para la calificación que tendría un alumno si sabemos que estudió durante 12 horas para el examen y en un examen previo obtuvo 3 de calificación.  \r\n",
    "• Discute las modificaciones que realizaste y las distintas configuraciones para los hiperpa-\r\n",
    "rámetros que probaste."
   ],
   "metadata": {}
  },
  {
   "cell_type": "code",
   "execution_count": 37,
   "source": [
    "calif = pd.read_csv(\"https://raw.githubusercontent.com/gibranfp/CursoAprendizajeProfundo/2022-1/data/califs.csv\")\r\n",
    "display(calif.info())\r\n",
    "print(\"=================================\")\r\n",
    "display(calif.isnull().sum())\r\n",
    "sns.pairplot(calif);\r\n"
   ],
   "outputs": [
    {
     "output_type": "stream",
     "name": "stdout",
     "text": [
      "<class 'pandas.core.frame.DataFrame'>\n",
      "RangeIndex: 50 entries, 0 to 49\n",
      "Data columns (total 3 columns):\n",
      " #   Column  Non-Null Count  Dtype  \n",
      "---  ------  --------------  -----  \n",
      " 0   prev    50 non-null     float64\n",
      " 1   horas   50 non-null     float64\n",
      " 2   calif   50 non-null     float64\n",
      "dtypes: float64(3)\n",
      "memory usage: 1.3 KB\n"
     ]
    },
    {
     "output_type": "display_data",
     "data": {
      "text/plain": [
       "None"
      ]
     },
     "metadata": {}
    },
    {
     "output_type": "stream",
     "name": "stdout",
     "text": [
      "=================================\n"
     ]
    },
    {
     "output_type": "display_data",
     "data": {
      "text/plain": [
       "prev     0\n",
       "horas    0\n",
       "calif    0\n",
       "dtype: int64"
      ]
     },
     "metadata": {}
    },
    {
     "output_type": "execute_result",
     "data": {
      "text/plain": [
       "<seaborn.axisgrid.PairGrid at 0x13b13c74dc0>"
      ]
     },
     "metadata": {},
     "execution_count": 37
    },
    {
     "output_type": "display_data",
     "data": {
      "image/png": "[encoded data removed]",
      "text/plain": [
       "<Figure size 540x540 with 12 Axes>"
      ]
     },
     "metadata": {
      "needs_background": "light"
     }
    }
   ],
   "metadata": {}
  },
  {
   "cell_type": "code",
   "execution_count": 43,
   "source": [
    "fig = px.scatter_3d(calif, x='prev', y='horas', z='calif')\r\n",
    "fig.show()"
   ],
   "outputs": [
    {
     "output_type": "display_data",
     "data": {
      "application/vnd.plotly.v1+json": {
       "config": {
        "plotlyServerURL": "https://plot.ly"
       },
       "data": [
        {
         "hovertemplate": "prev=%{x}<br>horas=%{y}<br>calif=%{z}<extra></extra>",
         "legendgroup": "",
         "marker": {
          "color": "#636efa",
          "symbol": "circle"
         },
         "mode": "markers",
         "name": "",
         "scene": "scene",
         "showlegend": false,
         "type": "scatter3d",
         "x": [
          5.6,
          6.7,
          5.1,
          5.7,
          7.1,
          6.4,
          6.1,
          6.8,
          6.3,
          6.2,
          4.9,
          5.6,
          5.9,
          7.1,
          6.2,
          7,
          5.4,
          7,
          6.4,
          4.2,
          8,
          6.7,
          5.4,
          7.5,
          5.7,
          5.5,
          7.5,
          7,
          6.1,
          7.1,
          5.5,
          7.9,
          6,
          7.1,
          5.4,
          7.7,
          8,
          5.9,
          8.4,
          7.3,
          8.7,
          10.1,
          8,
          8.3,
          6.5,
          6.6,
          7.2,
          7.2,
          8.7,
          8.8
         ],
         "y": [
          8.2,
          9.3,
          10,
          10.4,
          10.4,
          10.4,
          10.4,
          10.5,
          10.7,
          10.9,
          10.9,
          11.2,
          11.3,
          11.5,
          11.5,
          11.5,
          11.5,
          11.5,
          11.6,
          11.7,
          11.8,
          11.8,
          11.9,
          11.9,
          11.9,
          11.9,
          12,
          12.1,
          12.1,
          12.2,
          12.5,
          12.8,
          12.8,
          12.8,
          12.8,
          12.8,
          12.9,
          12.9,
          13,
          13.1,
          13.3,
          13.3,
          13.4,
          13.5,
          13.7,
          13.7,
          13.8,
          13.9,
          13.9,
          14.4
         ],
         "z": [
          5.1,
          5.9,
          5.4,
          6.5,
          6.7,
          6,
          6.8,
          6.2,
          7.2,
          7.2,
          6.7,
          6.7,
          7,
          7.9,
          6.8,
          6.7,
          7,
          6.4,
          6.5,
          5.7,
          7.8,
          6.9,
          7.3,
          6.6,
          7.4,
          7.4,
          7.6,
          6.9,
          7.8,
          7.8,
          6.7,
          7.5,
          7,
          7.7,
          7.3,
          7.2,
          7.8,
          7.7,
          7.9,
          8.1,
          8.1,
          9.2,
          8.9,
          8.6,
          8.4,
          8.5,
          8.1,
          8.3,
          9.1,
          8.6
         ]
        }
       ],
       "layout": {
        "legend": {
         "tracegroupgap": 0
        },
        "margin": {
         "t": 60
        },
        "scene": {
         "domain": {
          "x": [
           0,
           1
          ],
          "y": [
           0,
           1
          ]
         },
         "xaxis": {
          "title": {
           "text": "prev"
          }
         },
         "yaxis": {
          "title": {
           "text": "horas"
          }
         },
         "zaxis": {
          "title": {
           "text": "calif"
          }
         }
        },
        "template": {
         "data": {
          "bar": [
           {
            "error_x": {
             "color": "#2a3f5f"
            },
            "error_y": {
             "color": "#2a3f5f"
            },
            "marker": {
             "line": {
              "color": "#E5ECF6",
              "width": 0.5
             },
             "pattern": {
              "fillmode": "overlay",
              "size": 10,
              "solidity": 0.2
             }
            },
            "type": "bar"
           }
          ],
          "barpolar": [
           {
            "marker": {
             "line": {
              "color": "#E5ECF6",
              "width": 0.5
             },
             "pattern": {
              "fillmode": "overlay",
              "size": 10,
              "solidity": 0.2
             }
            },
            "type": "barpolar"
           }
          ],
          "carpet": [
           {
            "aaxis": {
             "endlinecolor": "#2a3f5f",
             "gridcolor": "white",
             "linecolor": "white",
             "minorgridcolor": "white",
             "startlinecolor": "#2a3f5f"
            },
            "baxis": {
             "endlinecolor": "#2a3f5f",
             "gridcolor": "white",
             "linecolor": "white",
             "minorgridcolor": "white",
             "startlinecolor": "#2a3f5f"
            },
            "type": "carpet"
           }
          ],
          "choropleth": [
           {
            "colorbar": {
             "outlinewidth": 0,
             "ticks": ""
            },
            "type": "choropleth"
           }
          ],
          "contour": [
           {
            "colorbar": {
             "outlinewidth": 0,
             "ticks": ""
            },
            "colorscale": [
             [
              0,
              "#0d0887"
             ],
             [
              0.1111111111111111,
              "#46039f"
             ],
             [
              0.2222222222222222,
              "#7201a8"
             ],
             [
              0.3333333333333333,
              "#9c179e"
             ],
             [
              0.4444444444444444,
              "#bd3786"
             ],
             [
              0.5555555555555556,
              "#d8576b"
             ],
             [
              0.6666666666666666,
              "#ed7953"
             ],
             [
              0.7777777777777778,
              "#fb9f3a"
             ],
             [
              0.8888888888888888,
              "#fdca26"
             ],
             [
              1,
              "#f0f921"
             ]
            ],
            "type": "contour"
           }
          ],
          "contourcarpet": [
           {
            "colorbar": {
             "outlinewidth": 0,
             "ticks": ""
            },
            "type": "contourcarpet"
           }
          ],
          "heatmap": [
           {
            "colorbar": {
             "outlinewidth": 0,
             "ticks": ""
            },
            "colorscale": [
             [
              0,
              "#0d0887"
             ],
             [
              0.1111111111111111,
              "#46039f"
             ],
             [
              0.2222222222222222,
              "#7201a8"
             ],
             [
              0.3333333333333333,
              "#9c179e"
             ],
             [
              0.4444444444444444,
              "#bd3786"
             ],
             [
              0.5555555555555556,
              "#d8576b"
             ],
             [
              0.6666666666666666,
              "#ed7953"
             ],
             [
              0.7777777777777778,
              "#fb9f3a"
             ],
             [
              0.8888888888888888,
              "#fdca26"
             ],
             [
              1,
              "#f0f921"
             ]
            ],
            "type": "heatmap"
           }
          ],
          "heatmapgl": [
           {
            "colorbar": {
             "outlinewidth": 0,
             "ticks": ""
            },
            "colorscale": [
             [
              0,
              "#0d0887"
             ],
             [
              0.1111111111111111,
              "#46039f"
             ],
             [
              0.2222222222222222,
              "#7201a8"
             ],
             [
              0.3333333333333333,
              "#9c179e"
             ],
             [
              0.4444444444444444,
              "#bd3786"
             ],
             [
              0.5555555555555556,
              "#d8576b"
             ],
             [
              0.6666666666666666,
              "#ed7953"
             ],
             [
              0.7777777777777778,
              "#fb9f3a"
             ],
             [
              0.8888888888888888,
              "#fdca26"
             ],
             [
              1,
              "#f0f921"
             ]
            ],
            "type": "heatmapgl"
           }
          ],
          "histogram": [
           {
            "marker": {
             "pattern": {
              "fillmode": "overlay",
              "size": 10,
              "solidity": 0.2
             }
            },
            "type": "histogram"
           }
          ],
          "histogram2d": [
           {
            "colorbar": {
             "outlinewidth": 0,
             "ticks": ""
            },
            "colorscale": [
             [
              0,
              "#0d0887"
             ],
             [
              0.1111111111111111,
              "#46039f"
             ],
             [
              0.2222222222222222,
              "#7201a8"
             ],
             [
              0.3333333333333333,
              "#9c179e"
             ],
             [
              0.4444444444444444,
              "#bd3786"
             ],
             [
              0.5555555555555556,
              "#d8576b"
             ],
             [
              0.6666666666666666,
              "#ed7953"
             ],
             [
              0.7777777777777778,
              "#fb9f3a"
             ],
             [
              0.8888888888888888,
              "#fdca26"
             ],
             [
              1,
              "#f0f921"
             ]
            ],
            "type": "histogram2d"
           }
          ],
          "histogram2dcontour": [
           {
            "colorbar": {
             "outlinewidth": 0,
             "ticks": ""
            },
            "colorscale": [
             [
              0,
              "#0d0887"
             ],
             [
              0.1111111111111111,
              "#46039f"
             ],
             [
              0.2222222222222222,
              "#7201a8"
             ],
             [
              0.3333333333333333,
              "#9c179e"
             ],
             [
              0.4444444444444444,
              "#bd3786"
             ],
             [
              0.5555555555555556,
              "#d8576b"
             ],
             [
              0.6666666666666666,
              "#ed7953"
             ],
             [
              0.7777777777777778,
              "#fb9f3a"
             ],
             [
              0.8888888888888888,
              "#fdca26"
             ],
             [
              1,
              "#f0f921"
             ]
            ],
            "type": "histogram2dcontour"
           }
          ],
          "mesh3d": [
           {
            "colorbar": {
             "outlinewidth": 0,
             "ticks": ""
            },
            "type": "mesh3d"
           }
          ],
          "parcoords": [
           {
            "line": {
             "colorbar": {
              "outlinewidth": 0,
              "ticks": ""
             }
            },
            "type": "parcoords"
           }
          ],
          "pie": [
           {
            "automargin": true,
            "type": "pie"
           }
          ],
          "scatter": [
           {
            "marker": {
             "colorbar": {
              "outlinewidth": 0,
              "ticks": ""
             }
            },
            "type": "scatter"
           }
          ],
          "scatter3d": [
           {
            "line": {
             "colorbar": {
              "outlinewidth": 0,
              "ticks": ""
             }
            },
            "marker": {
             "colorbar": {
              "outlinewidth": 0,
              "ticks": ""
             }
            },
            "type": "scatter3d"
           }
          ],
          "scattercarpet": [
           {
            "marker": {
             "colorbar": {
              "outlinewidth": 0,
              "ticks": ""
             }
            },
            "type": "scattercarpet"
           }
          ],
          "scattergeo": [
           {
            "marker": {
             "colorbar": {
              "outlinewidth": 0,
              "ticks": ""
             }
            },
            "type": "scattergeo"
           }
          ],
          "scattergl": [
           {
            "marker": {
             "colorbar": {
              "outlinewidth": 0,
              "ticks": ""
             }
            },
            "type": "scattergl"
           }
          ],
          "scattermapbox": [
           {
            "marker": {
             "colorbar": {
              "outlinewidth": 0,
              "ticks": ""
             }
            },
            "type": "scattermapbox"
           }
          ],
          "scatterpolar": [
           {
            "marker": {
             "colorbar": {
              "outlinewidth": 0,
              "ticks": ""
             }
            },
            "type": "scatterpolar"
           }
          ],
          "scatterpolargl": [
           {
            "marker": {
             "colorbar": {
              "outlinewidth": 0,
              "ticks": ""
             }
            },
            "type": "scatterpolargl"
           }
          ],
          "scatterternary": [
           {
            "marker": {
             "colorbar": {
              "outlinewidth": 0,
              "ticks": ""
             }
            },
            "type": "scatterternary"
           }
          ],
          "surface": [
           {
            "colorbar": {
             "outlinewidth": 0,
             "ticks": ""
            },
            "colorscale": [
             [
              0,
              "#0d0887"
             ],
             [
              0.1111111111111111,
              "#46039f"
             ],
             [
              0.2222222222222222,
              "#7201a8"
             ],
             [
              0.3333333333333333,
              "#9c179e"
             ],
             [
              0.4444444444444444,
              "#bd3786"
             ],
             [
              0.5555555555555556,
              "#d8576b"
             ],
             [
              0.6666666666666666,
              "#ed7953"
             ],
             [
              0.7777777777777778,
              "#fb9f3a"
             ],
             [
              0.8888888888888888,
              "#fdca26"
             ],
             [
              1,
              "#f0f921"
             ]
            ],
            "type": "surface"
           }
          ],
          "table": [
           {
            "cells": {
             "fill": {
              "color": "#EBF0F8"
             },
             "line": {
              "color": "white"
             }
            },
            "header": {
             "fill": {
              "color": "#C8D4E3"
             },
             "line": {
              "color": "white"
             }
            },
            "type": "table"
           }
          ]
         },
         "layout": {
          "annotationdefaults": {
           "arrowcolor": "#2a3f5f",
           "arrowhead": 0,
           "arrowwidth": 1
          },
          "autotypenumbers": "strict",
          "coloraxis": {
           "colorbar": {
            "outlinewidth": 0,
            "ticks": ""
           }
          },
          "colorscale": {
           "diverging": [
            [
             0,
             "#8e0152"
            ],
            [
             0.1,
             "#c51b7d"
            ],
            [
             0.2,
             "#de77ae"
            ],
            [
             0.3,
             "#f1b6da"
            ],
            [
             0.4,
             "#fde0ef"
            ],
            [
             0.5,
             "#f7f7f7"
            ],
            [
             0.6,
             "#e6f5d0"
            ],
            [
             0.7,
             "#b8e186"
            ],
            [
             0.8,
             "#7fbc41"
            ],
            [
             0.9,
             "#4d9221"
            ],
            [
             1,
             "#276419"
            ]
           ],
           "sequential": [
            [
             0,
             "#0d0887"
            ],
            [
             0.1111111111111111,
             "#46039f"
            ],
            [
             0.2222222222222222,
             "#7201a8"
            ],
            [
             0.3333333333333333,
             "#9c179e"
            ],
            [
             0.4444444444444444,
             "#bd3786"
            ],
            [
             0.5555555555555556,
             "#d8576b"
            ],
            [
             0.6666666666666666,
             "#ed7953"
            ],
            [
             0.7777777777777778,
             "#fb9f3a"
            ],
            [
             0.8888888888888888,
             "#fdca26"
            ],
            [
             1,
             "#f0f921"
            ]
           ],
           "sequentialminus": [
            [
             0,
             "#0d0887"
            ],
            [
             0.1111111111111111,
             "#46039f"
            ],
            [
             0.2222222222222222,
             "#7201a8"
            ],
            [
             0.3333333333333333,
             "#9c179e"
            ],
            [
             0.4444444444444444,
             "#bd3786"
            ],
            [
             0.5555555555555556,
             "#d8576b"
            ],
            [
             0.6666666666666666,
             "#ed7953"
            ],
            [
             0.7777777777777778,
             "#fb9f3a"
            ],
            [
             0.8888888888888888,
             "#fdca26"
            ],
            [
             1,
             "#f0f921"
            ]
           ]
          },
          "colorway": [
           "#636efa",
           "#EF553B",
           "#00cc96",
           "#ab63fa",
           "#FFA15A",
           "#19d3f3",
           "#FF6692",
           "#B6E880",
           "#FF97FF",
           "#FECB52"
          ],
          "font": {
           "color": "#2a3f5f"
          },
          "geo": {
           "bgcolor": "white",
           "lakecolor": "white",
           "landcolor": "#E5ECF6",
           "showlakes": true,
           "showland": true,
           "subunitcolor": "white"
          },
          "hoverlabel": {
           "align": "left"
          },
          "hovermode": "closest",
          "mapbox": {
           "style": "light"
          },
          "paper_bgcolor": "white",
          "plot_bgcolor": "#E5ECF6",
          "polar": {
           "angularaxis": {
            "gridcolor": "white",
            "linecolor": "white",
            "ticks": ""
           },
           "bgcolor": "#E5ECF6",
           "radialaxis": {
            "gridcolor": "white",
            "linecolor": "white",
            "ticks": ""
           }
          },
          "scene": {
           "xaxis": {
            "backgroundcolor": "#E5ECF6",
            "gridcolor": "white",
            "gridwidth": 2,
            "linecolor": "white",
            "showbackground": true,
            "ticks": "",
            "zerolinecolor": "white"
           },
           "yaxis": {
            "backgroundcolor": "#E5ECF6",
            "gridcolor": "white",
            "gridwidth": 2,
            "linecolor": "white",
            "showbackground": true,
            "ticks": "",
            "zerolinecolor": "white"
           },
           "zaxis": {
            "backgroundcolor": "#E5ECF6",
            "gridcolor": "white",
            "gridwidth": 2,
            "linecolor": "white",
            "showbackground": true,
            "ticks": "",
            "zerolinecolor": "white"
           }
          },
          "shapedefaults": {
           "line": {
            "color": "#2a3f5f"
           }
          },
          "ternary": {
           "aaxis": {
            "gridcolor": "white",
            "linecolor": "white",
            "ticks": ""
           },
           "baxis": {
            "gridcolor": "white",
            "linecolor": "white",
            "ticks": ""
           },
           "bgcolor": "#E5ECF6",
           "caxis": {
            "gridcolor": "white",
            "linecolor": "white",
            "ticks": ""
           }
          },
          "title": {
           "x": 0.05
          },
          "xaxis": {
           "automargin": true,
           "gridcolor": "white",
           "linecolor": "white",
           "ticks": "",
           "title": {
            "standoff": 15
           },
           "zerolinecolor": "white",
           "zerolinewidth": 2
          },
          "yaxis": {
           "automargin": true,
           "gridcolor": "white",
           "linecolor": "white",
           "ticks": "",
           "title": {
            "standoff": 15
           },
           "zerolinecolor": "white",
           "zerolinewidth": 2
          }
         }
        }
       }
      }
     },
     "metadata": {}
    }
   ],
   "metadata": {}
  },
  {
   "cell_type": "markdown",
   "source": [],
   "metadata": {}
  },
  {
   "cell_type": "markdown",
   "source": [],
   "metadata": {}
  }
 ],
 "metadata": {
  "kernelspec": {
   "name": "python3",
   "display_name": "Python 3.8.8 64-bit ('base': conda)"
  },
  "language_info": {
   "codemirror_mode": {
    "name": "ipython",
    "version": 3
   },
   "file_extension": ".py",
   "mimetype": "text/x-python",
   "name": "python",
   "nbconvert_exporter": "python",
   "pygments_lexer": "ipython3",
   "version": "3.8.8"
  },
  "interpreter": {
   "hash": "b3ba2566441a7c06988d0923437866b63cedc61552a5af99d1f4fb67d367b25f"
  }
 },
 "nbformat": 4,
 "nbformat_minor": 5
}